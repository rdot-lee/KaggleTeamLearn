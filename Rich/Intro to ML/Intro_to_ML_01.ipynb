{
 "cells": [
  {
   "attachments": {},
   "cell_type": "markdown",
   "metadata": {},
   "source": [
    "windows\n",
    "winget install --id Git.Git -e --source winget\n",
    "\n",
    "mac\n",
    "sudo port install git"
   ]
  },
  {
   "cell_type": "code",
   "execution_count": null,
   "metadata": {},
   "outputs": [],
   "source": [
    "!pip3 install pandas"
   ]
  },
  {
   "cell_type": "code",
   "execution_count": null,
   "metadata": {},
   "outputs": [],
   "source": [
    "import os\n",
    "import sys\n",
    "\n",
    "CurrentPath = os.getcwd()"
   ]
  },
  {
   "cell_type": "code",
   "execution_count": null,
   "metadata": {},
   "outputs": [],
   "source": [
    "import pandas as pd\n",
    "\n",
    "# https://www.kaggle.com/datasets/dansbecker/melbourne-housing-snapshot\n",
    "# 設定file path\n",
    "melbourne_file_path = CurrentPath + '\\\\melb_data.csv'\n",
    "melbourne_data = pd.read_csv(melbourne_file_path) \n",
    "\n",
    "#describe() 顯示資料的統計值\n",
    "melbourne_data\n"
   ]
  },
  {
   "cell_type": "code",
   "execution_count": null,
   "metadata": {},
   "outputs": [],
   "source": [
    "melbourne_data.isnull()"
   ]
  },
  {
   "cell_type": "code",
   "execution_count": null,
   "metadata": {},
   "outputs": [],
   "source": [
    "melbourne_data.head()"
   ]
  },
  {
   "cell_type": "code",
   "execution_count": null,
   "metadata": {},
   "outputs": [],
   "source": [
    "#Practice\n",
    "\n",
    "#https://www.kaggle.com/datasets/dansbecker/home-data-for-ml-course\n",
    "import pandas as pd\n",
    "\n",
    "#設定file path\n",
    "iowa_file_path = '/Users/Rich/Desktop/Kaggle/Kaggle_learn/Intro_to_ML/melb_data.csv'\n",
    "\n",
    "#使用pandas讀取csv檔案\n",
    "home_data = pd.read_csv(iowa_file_path)\n",
    "\n",
    "#顯示統計值\n",
    "home_data.describe()\n",
    "\n",
    "#lot_area的平均值是多少？(四捨五入至整數)\n",
    "#avg_lot_size\n",
    "round()\n",
    "#到今日為止最新的房屋建造年份是多少？\n",
    "#newest_home_age"
   ]
  }
 ],
 "metadata": {
  "kernelspec": {
   "display_name": "kaggle",
   "language": "python",
   "name": "python3"
  },
  "language_info": {
   "codemirror_mode": {
    "name": "ipython",
    "version": 3
   },
   "file_extension": ".py",
   "mimetype": "text/x-python",
   "name": "python",
   "nbconvert_exporter": "python",
   "pygments_lexer": "ipython3",
   "version": "3.10.9"
  },
  "orig_nbformat": 4,
  "vscode": {
   "interpreter": {
    "hash": "965f6fa98b6199e1d728618b9b5f9eac19623e3de6b6beb30f76c2e66abc87de"
   }
  }
 },
 "nbformat": 4,
 "nbformat_minor": 2
}
